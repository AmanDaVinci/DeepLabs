{
 "cells": [
  {
   "cell_type": "markdown",
   "metadata": {},
   "source": [
    "# Collaborative Filtering using fastai\n",
    "---"
   ]
  },
  {
   "cell_type": "code",
   "execution_count": 50,
   "metadata": {},
   "outputs": [],
   "source": [
    "%reload_ext autoreload\n",
    "%autoreload 2\n",
    "%matplotlib inline"
   ]
  },
  {
   "cell_type": "code",
   "execution_count": 51,
   "metadata": {},
   "outputs": [],
   "source": [
    "from fastai.collab import *"
   ]
  },
  {
   "cell_type": "code",
   "execution_count": 52,
   "metadata": {},
   "outputs": [
    {
     "data": {
      "text/plain": [
       "'1.0.48.dev0'"
      ]
     },
     "execution_count": 52,
     "metadata": {},
     "output_type": "execute_result"
    }
   ],
   "source": [
    "import fastai\n",
    "fastai.__version__"
   ]
  },
  {
   "cell_type": "markdown",
   "metadata": {},
   "source": [
    "## Load Movielens Data"
   ]
  },
  {
   "cell_type": "markdown",
   "metadata": {},
   "source": [
    "### Download Data"
   ]
  },
  {
   "cell_type": "code",
   "execution_count": 3,
   "metadata": {},
   "outputs": [],
   "source": [
    "! touch ~/.fastai/data/ml-100k.zip"
   ]
  },
  {
   "cell_type": "code",
   "execution_count": 4,
   "metadata": {},
   "outputs": [
    {
     "name": "stdout",
     "output_type": "stream",
     "text": [
      "  % Total    % Received % Xferd  Average Speed   Time    Time     Time  Current\n",
      "                                 Dload  Upload   Total   Spent    Left  Speed\n",
      "100 4808k  100 4808k    0     0  62216      0  0:01:19  0:01:19 --:--:-- 82302\n"
     ]
    }
   ],
   "source": [
    "! curl 'http://files.grouplens.org/datasets/movielens/ml-100k.zip' --output ~/.fastai/data/ml-100k.zip"
   ]
  },
  {
   "cell_type": "code",
   "execution_count": 5,
   "metadata": {},
   "outputs": [
    {
     "name": "stdout",
     "output_type": "stream",
     "text": [
      "Archive:  /home/aman/.fastai/data/ml-100k.zip\n",
      "   creating: /home/aman/.fastai/data/ml-100k/\n",
      "  inflating: /home/aman/.fastai/data/ml-100k/allbut.pl  \n",
      "  inflating: /home/aman/.fastai/data/ml-100k/mku.sh  \n",
      "  inflating: /home/aman/.fastai/data/ml-100k/README  \n",
      "  inflating: /home/aman/.fastai/data/ml-100k/u.data  \n",
      "  inflating: /home/aman/.fastai/data/ml-100k/u.genre  \n",
      "  inflating: /home/aman/.fastai/data/ml-100k/u.info  \n",
      "  inflating: /home/aman/.fastai/data/ml-100k/u.item  \n",
      "  inflating: /home/aman/.fastai/data/ml-100k/u.occupation  \n",
      "  inflating: /home/aman/.fastai/data/ml-100k/u.user  \n",
      "  inflating: /home/aman/.fastai/data/ml-100k/u1.base  \n",
      "  inflating: /home/aman/.fastai/data/ml-100k/u1.test  \n",
      "  inflating: /home/aman/.fastai/data/ml-100k/u2.base  \n",
      "  inflating: /home/aman/.fastai/data/ml-100k/u2.test  \n",
      "  inflating: /home/aman/.fastai/data/ml-100k/u3.base  \n",
      "  inflating: /home/aman/.fastai/data/ml-100k/u3.test  \n",
      "  inflating: /home/aman/.fastai/data/ml-100k/u4.base  \n",
      "  inflating: /home/aman/.fastai/data/ml-100k/u4.test  \n",
      "  inflating: /home/aman/.fastai/data/ml-100k/u5.base  \n",
      "  inflating: /home/aman/.fastai/data/ml-100k/u5.test  \n",
      "  inflating: /home/aman/.fastai/data/ml-100k/ua.base  \n",
      "  inflating: /home/aman/.fastai/data/ml-100k/ua.test  \n",
      "  inflating: /home/aman/.fastai/data/ml-100k/ub.base  \n",
      "  inflating: /home/aman/.fastai/data/ml-100k/ub.test  \n"
     ]
    }
   ],
   "source": [
    "! unzip ~/.fastai/data/ml-100k.zip -d ~/.fastai/data/"
   ]
  },
  {
   "cell_type": "code",
   "execution_count": 53,
   "metadata": {},
   "outputs": [],
   "source": [
    "path = Path('/home/aman/.fastai/data/ml-100k')"
   ]
  },
  {
   "cell_type": "code",
   "execution_count": 54,
   "metadata": {},
   "outputs": [
    {
     "data": {
      "text/plain": [
       "[PosixPath('/home/aman/.fastai/data/ml-100k/u.data'),\n",
       " PosixPath('/home/aman/.fastai/data/ml-100k/u4.base'),\n",
       " PosixPath('/home/aman/.fastai/data/ml-100k/u.info'),\n",
       " PosixPath('/home/aman/.fastai/data/ml-100k/README'),\n",
       " PosixPath('/home/aman/.fastai/data/ml-100k/u5.base'),\n",
       " PosixPath('/home/aman/.fastai/data/ml-100k/ub.base'),\n",
       " PosixPath('/home/aman/.fastai/data/ml-100k/ub.test'),\n",
       " PosixPath('/home/aman/.fastai/data/ml-100k/u.item'),\n",
       " PosixPath('/home/aman/.fastai/data/ml-100k/u2.test'),\n",
       " PosixPath('/home/aman/.fastai/data/ml-100k/u3.test'),\n",
       " PosixPath('/home/aman/.fastai/data/ml-100k/u.user'),\n",
       " PosixPath('/home/aman/.fastai/data/ml-100k/mku.sh'),\n",
       " PosixPath('/home/aman/.fastai/data/ml-100k/u4.test'),\n",
       " PosixPath('/home/aman/.fastai/data/ml-100k/ua.base'),\n",
       " PosixPath('/home/aman/.fastai/data/ml-100k/u3.base'),\n",
       " PosixPath('/home/aman/.fastai/data/ml-100k/models'),\n",
       " PosixPath('/home/aman/.fastai/data/ml-100k/u1.test'),\n",
       " PosixPath('/home/aman/.fastai/data/ml-100k/u1.base'),\n",
       " PosixPath('/home/aman/.fastai/data/ml-100k/u.occupation'),\n",
       " PosixPath('/home/aman/.fastai/data/ml-100k/u.genre'),\n",
       " PosixPath('/home/aman/.fastai/data/ml-100k/ua.test'),\n",
       " PosixPath('/home/aman/.fastai/data/ml-100k/u2.base'),\n",
       " PosixPath('/home/aman/.fastai/data/ml-100k/allbut.pl'),\n",
       " PosixPath('/home/aman/.fastai/data/ml-100k/u5.test')]"
      ]
     },
     "execution_count": 54,
     "metadata": {},
     "output_type": "execute_result"
    }
   ],
   "source": [
    "path.ls()"
   ]
  },
  {
   "cell_type": "markdown",
   "metadata": {},
   "source": [
    "### Read into DataFrame"
   ]
  },
  {
   "cell_type": "code",
   "execution_count": 55,
   "metadata": {},
   "outputs": [
    {
     "data": {
      "text/html": [
       "<div>\n",
       "<style scoped>\n",
       "    .dataframe tbody tr th:only-of-type {\n",
       "        vertical-align: middle;\n",
       "    }\n",
       "\n",
       "    .dataframe tbody tr th {\n",
       "        vertical-align: top;\n",
       "    }\n",
       "\n",
       "    .dataframe thead th {\n",
       "        text-align: right;\n",
       "    }\n",
       "</style>\n",
       "<table border=\"1\" class=\"dataframe\">\n",
       "  <thead>\n",
       "    <tr style=\"text-align: right;\">\n",
       "      <th></th>\n",
       "      <th>userID</th>\n",
       "      <th>itemID</th>\n",
       "      <th>rating</th>\n",
       "      <th>timestamp</th>\n",
       "    </tr>\n",
       "  </thead>\n",
       "  <tbody>\n",
       "    <tr>\n",
       "      <th>0</th>\n",
       "      <td>196</td>\n",
       "      <td>242</td>\n",
       "      <td>3</td>\n",
       "      <td>881250949</td>\n",
       "    </tr>\n",
       "    <tr>\n",
       "      <th>1</th>\n",
       "      <td>186</td>\n",
       "      <td>302</td>\n",
       "      <td>3</td>\n",
       "      <td>891717742</td>\n",
       "    </tr>\n",
       "    <tr>\n",
       "      <th>2</th>\n",
       "      <td>22</td>\n",
       "      <td>377</td>\n",
       "      <td>1</td>\n",
       "      <td>878887116</td>\n",
       "    </tr>\n",
       "    <tr>\n",
       "      <th>3</th>\n",
       "      <td>244</td>\n",
       "      <td>51</td>\n",
       "      <td>2</td>\n",
       "      <td>880606923</td>\n",
       "    </tr>\n",
       "    <tr>\n",
       "      <th>4</th>\n",
       "      <td>166</td>\n",
       "      <td>346</td>\n",
       "      <td>1</td>\n",
       "      <td>886397596</td>\n",
       "    </tr>\n",
       "  </tbody>\n",
       "</table>\n",
       "</div>"
      ],
      "text/plain": [
       "   userID  itemID  rating  timestamp\n",
       "0     196     242       3  881250949\n",
       "1     186     302       3  891717742\n",
       "2      22     377       1  878887116\n",
       "3     244      51       2  880606923\n",
       "4     166     346       1  886397596"
      ]
     },
     "execution_count": 55,
     "metadata": {},
     "output_type": "execute_result"
    }
   ],
   "source": [
    "ratings = pd.read_csv(path/'u.data', sep='\\t', header=None, names=['userID', 'itemID','rating', 'timestamp'])\n",
    "ratings.head()"
   ]
  },
  {
   "cell_type": "code",
   "execution_count": 56,
   "metadata": {},
   "outputs": [
    {
     "data": {
      "text/html": [
       "<div>\n",
       "<style scoped>\n",
       "    .dataframe tbody tr th:only-of-type {\n",
       "        vertical-align: middle;\n",
       "    }\n",
       "\n",
       "    .dataframe tbody tr th {\n",
       "        vertical-align: top;\n",
       "    }\n",
       "\n",
       "    .dataframe thead th {\n",
       "        text-align: right;\n",
       "    }\n",
       "</style>\n",
       "<table border=\"1\" class=\"dataframe\">\n",
       "  <thead>\n",
       "    <tr style=\"text-align: right;\">\n",
       "      <th></th>\n",
       "      <th>itemID</th>\n",
       "      <th>title</th>\n",
       "      <th>col_0</th>\n",
       "      <th>col_1</th>\n",
       "      <th>col_2</th>\n",
       "      <th>col_3</th>\n",
       "      <th>col_4</th>\n",
       "      <th>col_5</th>\n",
       "      <th>col_6</th>\n",
       "      <th>col_7</th>\n",
       "      <th>...</th>\n",
       "      <th>col_12</th>\n",
       "      <th>col_13</th>\n",
       "      <th>col_14</th>\n",
       "      <th>col_15</th>\n",
       "      <th>col_16</th>\n",
       "      <th>col_17</th>\n",
       "      <th>col_18</th>\n",
       "      <th>col_19</th>\n",
       "      <th>col_20</th>\n",
       "      <th>col_21</th>\n",
       "    </tr>\n",
       "  </thead>\n",
       "  <tbody>\n",
       "    <tr>\n",
       "      <th>0</th>\n",
       "      <td>1</td>\n",
       "      <td>Toy Story (1995)</td>\n",
       "      <td>01-Jan-1995</td>\n",
       "      <td>NaN</td>\n",
       "      <td>http://us.imdb.com/M/title-exact?Toy%20Story%2...</td>\n",
       "      <td>0</td>\n",
       "      <td>0</td>\n",
       "      <td>0</td>\n",
       "      <td>1</td>\n",
       "      <td>1</td>\n",
       "      <td>...</td>\n",
       "      <td>0</td>\n",
       "      <td>0</td>\n",
       "      <td>0</td>\n",
       "      <td>0</td>\n",
       "      <td>0</td>\n",
       "      <td>0</td>\n",
       "      <td>0</td>\n",
       "      <td>0</td>\n",
       "      <td>0</td>\n",
       "      <td>0</td>\n",
       "    </tr>\n",
       "    <tr>\n",
       "      <th>1</th>\n",
       "      <td>2</td>\n",
       "      <td>GoldenEye (1995)</td>\n",
       "      <td>01-Jan-1995</td>\n",
       "      <td>NaN</td>\n",
       "      <td>http://us.imdb.com/M/title-exact?GoldenEye%20(...</td>\n",
       "      <td>0</td>\n",
       "      <td>1</td>\n",
       "      <td>1</td>\n",
       "      <td>0</td>\n",
       "      <td>0</td>\n",
       "      <td>...</td>\n",
       "      <td>0</td>\n",
       "      <td>0</td>\n",
       "      <td>0</td>\n",
       "      <td>0</td>\n",
       "      <td>0</td>\n",
       "      <td>0</td>\n",
       "      <td>0</td>\n",
       "      <td>1</td>\n",
       "      <td>0</td>\n",
       "      <td>0</td>\n",
       "    </tr>\n",
       "    <tr>\n",
       "      <th>2</th>\n",
       "      <td>3</td>\n",
       "      <td>Four Rooms (1995)</td>\n",
       "      <td>01-Jan-1995</td>\n",
       "      <td>NaN</td>\n",
       "      <td>http://us.imdb.com/M/title-exact?Four%20Rooms%...</td>\n",
       "      <td>0</td>\n",
       "      <td>0</td>\n",
       "      <td>0</td>\n",
       "      <td>0</td>\n",
       "      <td>0</td>\n",
       "      <td>...</td>\n",
       "      <td>0</td>\n",
       "      <td>0</td>\n",
       "      <td>0</td>\n",
       "      <td>0</td>\n",
       "      <td>0</td>\n",
       "      <td>0</td>\n",
       "      <td>0</td>\n",
       "      <td>1</td>\n",
       "      <td>0</td>\n",
       "      <td>0</td>\n",
       "    </tr>\n",
       "    <tr>\n",
       "      <th>3</th>\n",
       "      <td>4</td>\n",
       "      <td>Get Shorty (1995)</td>\n",
       "      <td>01-Jan-1995</td>\n",
       "      <td>NaN</td>\n",
       "      <td>http://us.imdb.com/M/title-exact?Get%20Shorty%...</td>\n",
       "      <td>0</td>\n",
       "      <td>1</td>\n",
       "      <td>0</td>\n",
       "      <td>0</td>\n",
       "      <td>0</td>\n",
       "      <td>...</td>\n",
       "      <td>0</td>\n",
       "      <td>0</td>\n",
       "      <td>0</td>\n",
       "      <td>0</td>\n",
       "      <td>0</td>\n",
       "      <td>0</td>\n",
       "      <td>0</td>\n",
       "      <td>0</td>\n",
       "      <td>0</td>\n",
       "      <td>0</td>\n",
       "    </tr>\n",
       "    <tr>\n",
       "      <th>4</th>\n",
       "      <td>5</td>\n",
       "      <td>Copycat (1995)</td>\n",
       "      <td>01-Jan-1995</td>\n",
       "      <td>NaN</td>\n",
       "      <td>http://us.imdb.com/M/title-exact?Copycat%20(1995)</td>\n",
       "      <td>0</td>\n",
       "      <td>0</td>\n",
       "      <td>0</td>\n",
       "      <td>0</td>\n",
       "      <td>0</td>\n",
       "      <td>...</td>\n",
       "      <td>0</td>\n",
       "      <td>0</td>\n",
       "      <td>0</td>\n",
       "      <td>0</td>\n",
       "      <td>0</td>\n",
       "      <td>0</td>\n",
       "      <td>0</td>\n",
       "      <td>1</td>\n",
       "      <td>0</td>\n",
       "      <td>0</td>\n",
       "    </tr>\n",
       "  </tbody>\n",
       "</table>\n",
       "<p>5 rows × 24 columns</p>\n",
       "</div>"
      ],
      "text/plain": [
       "   itemID              title        col_0  col_1  \\\n",
       "0       1   Toy Story (1995)  01-Jan-1995    NaN   \n",
       "1       2   GoldenEye (1995)  01-Jan-1995    NaN   \n",
       "2       3  Four Rooms (1995)  01-Jan-1995    NaN   \n",
       "3       4  Get Shorty (1995)  01-Jan-1995    NaN   \n",
       "4       5     Copycat (1995)  01-Jan-1995    NaN   \n",
       "\n",
       "                                               col_2  col_3  col_4  col_5  \\\n",
       "0  http://us.imdb.com/M/title-exact?Toy%20Story%2...      0      0      0   \n",
       "1  http://us.imdb.com/M/title-exact?GoldenEye%20(...      0      1      1   \n",
       "2  http://us.imdb.com/M/title-exact?Four%20Rooms%...      0      0      0   \n",
       "3  http://us.imdb.com/M/title-exact?Get%20Shorty%...      0      1      0   \n",
       "4  http://us.imdb.com/M/title-exact?Copycat%20(1995)      0      0      0   \n",
       "\n",
       "   col_6  col_7  ...  col_12  col_13  col_14  col_15  col_16  col_17  col_18  \\\n",
       "0      1      1  ...       0       0       0       0       0       0       0   \n",
       "1      0      0  ...       0       0       0       0       0       0       0   \n",
       "2      0      0  ...       0       0       0       0       0       0       0   \n",
       "3      0      0  ...       0       0       0       0       0       0       0   \n",
       "4      0      0  ...       0       0       0       0       0       0       0   \n",
       "\n",
       "   col_19  col_20  col_21  \n",
       "0       0       0       0  \n",
       "1       1       0       0  \n",
       "2       1       0       0  \n",
       "3       0       0       0  \n",
       "4       1       0       0  \n",
       "\n",
       "[5 rows x 24 columns]"
      ]
     },
     "execution_count": 56,
     "metadata": {},
     "output_type": "execute_result"
    }
   ],
   "source": [
    "movies = pd.read_csv(path/'u.item', sep='|', header=None,  encoding='latin-1',names=['itemID', 'title', *[f'col_{i}' for i in range(22)]])\n",
    "movies.head()"
   ]
  },
  {
   "cell_type": "code",
   "execution_count": 57,
   "metadata": {},
   "outputs": [
    {
     "data": {
      "text/html": [
       "<div>\n",
       "<style scoped>\n",
       "    .dataframe tbody tr th:only-of-type {\n",
       "        vertical-align: middle;\n",
       "    }\n",
       "\n",
       "    .dataframe tbody tr th {\n",
       "        vertical-align: top;\n",
       "    }\n",
       "\n",
       "    .dataframe thead th {\n",
       "        text-align: right;\n",
       "    }\n",
       "</style>\n",
       "<table border=\"1\" class=\"dataframe\">\n",
       "  <thead>\n",
       "    <tr style=\"text-align: right;\">\n",
       "      <th></th>\n",
       "      <th>userID</th>\n",
       "      <th>itemID</th>\n",
       "      <th>rating</th>\n",
       "      <th>timestamp</th>\n",
       "      <th>title</th>\n",
       "    </tr>\n",
       "  </thead>\n",
       "  <tbody>\n",
       "    <tr>\n",
       "      <th>0</th>\n",
       "      <td>196</td>\n",
       "      <td>242</td>\n",
       "      <td>3</td>\n",
       "      <td>881250949</td>\n",
       "      <td>Kolya (1996)</td>\n",
       "    </tr>\n",
       "    <tr>\n",
       "      <th>1</th>\n",
       "      <td>63</td>\n",
       "      <td>242</td>\n",
       "      <td>3</td>\n",
       "      <td>875747190</td>\n",
       "      <td>Kolya (1996)</td>\n",
       "    </tr>\n",
       "    <tr>\n",
       "      <th>2</th>\n",
       "      <td>226</td>\n",
       "      <td>242</td>\n",
       "      <td>5</td>\n",
       "      <td>883888671</td>\n",
       "      <td>Kolya (1996)</td>\n",
       "    </tr>\n",
       "    <tr>\n",
       "      <th>3</th>\n",
       "      <td>154</td>\n",
       "      <td>242</td>\n",
       "      <td>3</td>\n",
       "      <td>879138235</td>\n",
       "      <td>Kolya (1996)</td>\n",
       "    </tr>\n",
       "    <tr>\n",
       "      <th>4</th>\n",
       "      <td>306</td>\n",
       "      <td>242</td>\n",
       "      <td>5</td>\n",
       "      <td>876503793</td>\n",
       "      <td>Kolya (1996)</td>\n",
       "    </tr>\n",
       "  </tbody>\n",
       "</table>\n",
       "</div>"
      ],
      "text/plain": [
       "   userID  itemID  rating  timestamp         title\n",
       "0     196     242       3  881250949  Kolya (1996)\n",
       "1      63     242       3  875747190  Kolya (1996)\n",
       "2     226     242       5  883888671  Kolya (1996)\n",
       "3     154     242       3  879138235  Kolya (1996)\n",
       "4     306     242       5  876503793  Kolya (1996)"
      ]
     },
     "execution_count": 57,
     "metadata": {},
     "output_type": "execute_result"
    }
   ],
   "source": [
    "movies_ratings = ratings.merge(movies[['itemID', 'title']])\n",
    "movies_ratings.head()"
   ]
  },
  {
   "cell_type": "markdown",
   "metadata": {},
   "source": [
    "### Create DataBunch"
   ]
  },
  {
   "cell_type": "code",
   "execution_count": 58,
   "metadata": {},
   "outputs": [
    {
     "data": {
      "text/html": [
       "<table border=\"1\" class=\"dataframe\">\n",
       "  <thead>\n",
       "    <tr style=\"text-align: right;\">\n",
       "      <th>userID</th>\n",
       "      <th>title</th>\n",
       "      <th>target</th>\n",
       "    </tr>\n",
       "  </thead>\n",
       "  <tbody>\n",
       "    <tr>\n",
       "      <td>591</td>\n",
       "      <td>One Flew Over the Cuckoo's Nest (1975)</td>\n",
       "      <td>5.0</td>\n",
       "    </tr>\n",
       "    <tr>\n",
       "      <td>659</td>\n",
       "      <td>Rebecca (1940)</td>\n",
       "      <td>5.0</td>\n",
       "    </tr>\n",
       "    <tr>\n",
       "      <td>359</td>\n",
       "      <td>Fifth Element, The (1997)</td>\n",
       "      <td>4.0</td>\n",
       "    </tr>\n",
       "    <tr>\n",
       "      <td>524</td>\n",
       "      <td>Lone Star (1996)</td>\n",
       "      <td>5.0</td>\n",
       "    </tr>\n",
       "    <tr>\n",
       "      <td>843</td>\n",
       "      <td>Willy Wonka and the Chocolate Factory (1971)</td>\n",
       "      <td>2.0</td>\n",
       "    </tr>\n",
       "  </tbody>\n",
       "</table>"
      ],
      "text/plain": [
       "<IPython.core.display.HTML object>"
      ]
     },
     "metadata": {},
     "output_type": "display_data"
    }
   ],
   "source": [
    "data = CollabDataBunch.from_df(movies_ratings, valid_pct=0.1,\n",
    "                               user_name='userID', item_name='title', rating_name='rating')\n",
    "data.show_batch()"
   ]
  },
  {
   "cell_type": "code",
   "execution_count": 59,
   "metadata": {},
   "outputs": [],
   "source": [
    "ratings_range = [0,5.5]"
   ]
  },
  {
   "cell_type": "markdown",
   "metadata": {},
   "source": [
    "## Train Collaborative Filtering Learner"
   ]
  },
  {
   "cell_type": "code",
   "execution_count": 60,
   "metadata": {},
   "outputs": [],
   "source": [
    "learner = collab_learner(data, n_factors=50, y_range=ratings_range, metrics=accuracy_thresh)"
   ]
  },
  {
   "cell_type": "code",
   "execution_count": 61,
   "metadata": {},
   "outputs": [
    {
     "data": {
      "text/plain": [
       "EmbeddingDotBias(\n",
       "  (u_weight): Embedding(944, 50)\n",
       "  (i_weight): Embedding(1646, 50)\n",
       "  (u_bias): Embedding(944, 1)\n",
       "  (i_bias): Embedding(1646, 1)\n",
       ")"
      ]
     },
     "execution_count": 61,
     "metadata": {},
     "output_type": "execute_result"
    }
   ],
   "source": [
    "learner.model"
   ]
  },
  {
   "cell_type": "code",
   "execution_count": 62,
   "metadata": {},
   "outputs": [
    {
     "data": {
      "text/html": [],
      "text/plain": [
       "<IPython.core.display.HTML object>"
      ]
     },
     "metadata": {},
     "output_type": "display_data"
    },
    {
     "name": "stdout",
     "output_type": "stream",
     "text": [
      "LR Finder is complete, type {learner_name}.recorder.plot() to see the graph.\n"
     ]
    }
   ],
   "source": [
    "learner.lr_find()"
   ]
  },
  {
   "cell_type": "code",
   "execution_count": 63,
   "metadata": {},
   "outputs": [
    {
     "data": {
      "image/png": "[encoded data removed]",
      "text/plain": [
       "<Figure size 432x288 with 1 Axes>"
      ]
     },
     "metadata": {
      "needs_background": "light"
     },
     "output_type": "display_data"
    }
   ],
   "source": [
    "learner.recorder.plot(skip_end=15)"
   ]
  },
  {
   "cell_type": "code",
   "execution_count": 65,
   "metadata": {},
   "outputs": [],
   "source": [
    "lr =1e-2"
   ]
  },
  {
   "cell_type": "code",
   "execution_count": 66,
   "metadata": {},
   "outputs": [
    {
     "data": {
      "text/html": [
       "Total time: 00:19 <p><table border=\"1\" class=\"dataframe\">\n",
       "  <thead>\n",
       "    <tr style=\"text-align: left;\">\n",
       "      <th>epoch</th>\n",
       "      <th>train_loss</th>\n",
       "      <th>valid_loss</th>\n",
       "      <th>accuracy_thresh</th>\n",
       "      <th>time</th>\n",
       "    </tr>\n",
       "  </thead>\n",
       "  <tbody>\n",
       "    <tr>\n",
       "      <td>0</td>\n",
       "      <td>0.953867</td>\n",
       "      <td>0.948326</td>\n",
       "      <td>0.061600</td>\n",
       "      <td>00:06</td>\n",
       "    </tr>\n",
       "    <tr>\n",
       "      <td>1</td>\n",
       "      <td>0.798419</td>\n",
       "      <td>0.907082</td>\n",
       "      <td>0.061600</td>\n",
       "      <td>00:06</td>\n",
       "    </tr>\n",
       "    <tr>\n",
       "      <td>2</td>\n",
       "      <td>0.418705</td>\n",
       "      <td>0.916869</td>\n",
       "      <td>0.061600</td>\n",
       "      <td>00:06</td>\n",
       "    </tr>\n",
       "  </tbody>\n",
       "</table>"
      ],
      "text/plain": [
       "<IPython.core.display.HTML object>"
      ]
     },
     "metadata": {},
     "output_type": "display_data"
    }
   ],
   "source": [
    "learner.fit_one_cycle(3, lr)"
   ]
  },
  {
   "cell_type": "code",
   "execution_count": 67,
   "metadata": {},
   "outputs": [
    {
     "data": {
      "text/html": [
       "Total time: 00:20 <p><table border=\"1\" class=\"dataframe\">\n",
       "  <thead>\n",
       "    <tr style=\"text-align: left;\">\n",
       "      <th>epoch</th>\n",
       "      <th>train_loss</th>\n",
       "      <th>valid_loss</th>\n",
       "      <th>accuracy_thresh</th>\n",
       "      <th>time</th>\n",
       "    </tr>\n",
       "  </thead>\n",
       "  <tbody>\n",
       "    <tr>\n",
       "      <td>0</td>\n",
       "      <td>0.642619</td>\n",
       "      <td>1.104277</td>\n",
       "      <td>0.061600</td>\n",
       "      <td>00:06</td>\n",
       "    </tr>\n",
       "    <tr>\n",
       "      <td>1</td>\n",
       "      <td>0.562425</td>\n",
       "      <td>1.069876</td>\n",
       "      <td>0.061600</td>\n",
       "      <td>00:07</td>\n",
       "    </tr>\n",
       "    <tr>\n",
       "      <td>2</td>\n",
       "      <td>0.285817</td>\n",
       "      <td>1.053941</td>\n",
       "      <td>0.061600</td>\n",
       "      <td>00:07</td>\n",
       "    </tr>\n",
       "  </tbody>\n",
       "</table>"
      ],
      "text/plain": [
       "<IPython.core.display.HTML object>"
      ]
     },
     "metadata": {},
     "output_type": "display_data"
    }
   ],
   "source": [
    "learner.fit_one_cycle(3, lr)"
   ]
  },
  {
   "cell_type": "code",
   "execution_count": 68,
   "metadata": {},
   "outputs": [],
   "source": [
    "learner.save('dotprod')"
   ]
  },
  {
   "cell_type": "markdown",
   "metadata": {},
   "source": [
    "## Interpretation"
   ]
  },
  {
   "cell_type": "code",
   "execution_count": 69,
   "metadata": {},
   "outputs": [],
   "source": [
    "learner = collab_learner(data, n_factors=50, y_range=ratings_range, metrics=accuracy_thresh)"
   ]
  },
  {
   "cell_type": "code",
   "execution_count": 70,
   "metadata": {},
   "outputs": [],
   "source": [
    "learner.load('dotprod');"
   ]
  },
  {
   "cell_type": "code",
   "execution_count": 71,
   "metadata": {},
   "outputs": [
    {
     "data": {
      "text/plain": [
       "EmbeddingDotBias(\n",
       "  (u_weight): Embedding(944, 50)\n",
       "  (i_weight): Embedding(1646, 50)\n",
       "  (u_bias): Embedding(944, 1)\n",
       "  (i_bias): Embedding(1646, 1)\n",
       ")"
      ]
     },
     "execution_count": 71,
     "metadata": {},
     "output_type": "execute_result"
    }
   ],
   "source": [
    "learner.model"
   ]
  },
  {
   "cell_type": "markdown",
   "metadata": {},
   "source": [
    "### For Most Rated Movies"
   ]
  },
  {
   "cell_type": "code",
   "execution_count": 72,
   "metadata": {},
   "outputs": [
    {
     "data": {
      "text/html": [
       "<div>\n",
       "<style scoped>\n",
       "    .dataframe tbody tr th:only-of-type {\n",
       "        vertical-align: middle;\n",
       "    }\n",
       "\n",
       "    .dataframe tbody tr th {\n",
       "        vertical-align: top;\n",
       "    }\n",
       "\n",
       "    .dataframe thead th {\n",
       "        text-align: right;\n",
       "    }\n",
       "</style>\n",
       "<table border=\"1\" class=\"dataframe\">\n",
       "  <thead>\n",
       "    <tr style=\"text-align: right;\">\n",
       "      <th></th>\n",
       "      <th>userID</th>\n",
       "      <th>itemID</th>\n",
       "      <th>rating</th>\n",
       "      <th>timestamp</th>\n",
       "      <th>title</th>\n",
       "    </tr>\n",
       "  </thead>\n",
       "  <tbody>\n",
       "    <tr>\n",
       "      <th>0</th>\n",
       "      <td>196</td>\n",
       "      <td>242</td>\n",
       "      <td>3</td>\n",
       "      <td>881250949</td>\n",
       "      <td>Kolya (1996)</td>\n",
       "    </tr>\n",
       "    <tr>\n",
       "      <th>1</th>\n",
       "      <td>63</td>\n",
       "      <td>242</td>\n",
       "      <td>3</td>\n",
       "      <td>875747190</td>\n",
       "      <td>Kolya (1996)</td>\n",
       "    </tr>\n",
       "    <tr>\n",
       "      <th>2</th>\n",
       "      <td>226</td>\n",
       "      <td>242</td>\n",
       "      <td>5</td>\n",
       "      <td>883888671</td>\n",
       "      <td>Kolya (1996)</td>\n",
       "    </tr>\n",
       "    <tr>\n",
       "      <th>3</th>\n",
       "      <td>154</td>\n",
       "      <td>242</td>\n",
       "      <td>3</td>\n",
       "      <td>879138235</td>\n",
       "      <td>Kolya (1996)</td>\n",
       "    </tr>\n",
       "    <tr>\n",
       "      <th>4</th>\n",
       "      <td>306</td>\n",
       "      <td>242</td>\n",
       "      <td>5</td>\n",
       "      <td>876503793</td>\n",
       "      <td>Kolya (1996)</td>\n",
       "    </tr>\n",
       "  </tbody>\n",
       "</table>\n",
       "</div>"
      ],
      "text/plain": [
       "   userID  itemID  rating  timestamp         title\n",
       "0     196     242       3  881250949  Kolya (1996)\n",
       "1      63     242       3  875747190  Kolya (1996)\n",
       "2     226     242       5  883888671  Kolya (1996)\n",
       "3     154     242       3  879138235  Kolya (1996)\n",
       "4     306     242       5  876503793  Kolya (1996)"
      ]
     },
     "execution_count": 72,
     "metadata": {},
     "output_type": "execute_result"
    }
   ],
   "source": [
    "movies_ratings.head()"
   ]
  },
  {
   "cell_type": "code",
   "execution_count": 73,
   "metadata": {},
   "outputs": [],
   "source": [
    "g = movies_ratings.groupby('title')['rating'].count()"
   ]
  },
  {
   "cell_type": "code",
   "execution_count": 74,
   "metadata": {},
   "outputs": [],
   "source": [
    "top_movies = g.sort_values(ascending=False)[:1000]"
   ]
  },
  {
   "cell_type": "code",
   "execution_count": 75,
   "metadata": {},
   "outputs": [
    {
     "data": {
      "text/plain": [
       "title\n",
       "Star Wars (1977)                 583\n",
       "Contact (1997)                   509\n",
       "Fargo (1996)                     508\n",
       "Return of the Jedi (1983)        507\n",
       "Liar Liar (1997)                 485\n",
       "English Patient, The (1996)      481\n",
       "Scream (1996)                    478\n",
       "Toy Story (1995)                 452\n",
       "Air Force One (1997)             431\n",
       "Independence Day (ID4) (1996)    429\n",
       "Name: rating, dtype: int64"
      ]
     },
     "execution_count": 75,
     "metadata": {},
     "output_type": "execute_result"
    }
   ],
   "source": [
    "top_movies[:10]"
   ]
  },
  {
   "cell_type": "code",
   "execution_count": 76,
   "metadata": {},
   "outputs": [
    {
     "data": {
      "text/plain": [
       "title\n",
       "Waiting to Exhale (1995)               16\n",
       "Ruling Class, The (1972)               16\n",
       "Gang Related (1997)                    16\n",
       "Exit to Eden (1994)                    16\n",
       "Bad Taste (1987)                       16\n",
       "Selena (1997)                          16\n",
       "In the Bleak Midwinter (1995)          16\n",
       "Party Girl (1995)                      16\n",
       "Highlander III: The Sorcerer (1994)    16\n",
       "Bastard Out of Carolina (1996)         16\n",
       "Name: rating, dtype: int64"
      ]
     },
     "execution_count": 76,
     "metadata": {},
     "output_type": "execute_result"
    }
   ],
   "source": [
    "top_movies[-10:]"
   ]
  },
  {
   "cell_type": "markdown",
   "metadata": {},
   "source": [
    "### Movie Bias"
   ]
  },
  {
   "cell_type": "code",
   "execution_count": 81,
   "metadata": {},
   "outputs": [
    {
     "data": {
      "text/plain": [
       "torch.Size([1000])"
      ]
     },
     "execution_count": 81,
     "metadata": {},
     "output_type": "execute_result"
    }
   ],
   "source": [
    "bias = learner.bias(top_movies.index)\n",
    "bias.shape"
   ]
  },
  {
   "cell_type": "code",
   "execution_count": 88,
   "metadata": {},
   "outputs": [
    {
     "data": {
      "text/plain": [
       "title\n",
       "'Til There Was You (1997)    2.333333\n",
       "1-900 (1994)                 2.600000\n",
       "101 Dalmatians (1996)        2.908257\n",
       "12 Angry Men (1957)          4.344000\n",
       "187 (1997)                   3.024390\n",
       "Name: rating, dtype: float64"
      ]
     },
     "execution_count": 88,
     "metadata": {},
     "output_type": "execute_result"
    }
   ],
   "source": [
    "mean_ratings = movies_ratings.groupby('title')['rating'].mean()\n",
    "mean_ratings.head()"
   ]
  },
  {
   "cell_type": "code",
   "execution_count": 98,
   "metadata": {},
   "outputs": [
    {
     "data": {
      "text/plain": [
       "[('Star Wars (1977)', tensor(1.0770), 4.3584905660377355),\n",
       " ('Contact (1997)', tensor(0.6974), 3.8035363457760316),\n",
       " ('Fargo (1996)', tensor(0.7432), 4.155511811023622),\n",
       " ('Return of the Jedi (1983)', tensor(0.7439), 4.007889546351085),\n",
       " ('Liar Liar (1997)', tensor(0.0682), 3.156701030927835)]"
      ]
     },
     "execution_count": 98,
     "metadata": {},
     "output_type": "execute_result"
    }
   ],
   "source": [
    "movie_bias = [(i,b, mean_ratings[i]) for i,b in zip(top_movies.index, bias)]\n",
    "movie_bias[:5]"
   ]
  },
  {
   "cell_type": "code",
   "execution_count": 99,
   "metadata": {},
   "outputs": [
    {
     "data": {
      "text/plain": [
       "(4.3584905660377355, tensor(1.0770))"
      ]
     },
     "execution_count": 99,
     "metadata": {},
     "output_type": "execute_result"
    }
   ],
   "source": [
    "mean_ratings['Star Wars (1977)'], bias[0]"
   ]
  },
  {
   "cell_type": "code",
   "execution_count": 107,
   "metadata": {},
   "outputs": [
    {
     "data": {
      "text/plain": [
       "[(\"Schindler's List (1993)\", tensor(1.2091), 4.466442953020135),\n",
       " ('Titanic (1997)', tensor(1.1451), 4.2457142857142856),\n",
       " ('Casablanca (1942)', tensor(1.1326), 4.45679012345679),\n",
       " ('Star Wars (1977)', tensor(1.0770), 4.3584905660377355),\n",
       " ('Rear Window (1954)', tensor(1.0605), 4.3875598086124405),\n",
       " ('Shawshank Redemption, The (1994)', tensor(1.0540), 4.445229681978798),\n",
       " ('Wrong Trousers, The (1993)', tensor(1.0519), 4.466101694915254),\n",
       " ('Usual Suspects, The (1995)', tensor(1.0316), 4.385767790262173),\n",
       " ('Good Will Hunting (1997)', tensor(1.0178), 4.262626262626263),\n",
       " ('Close Shave, A (1995)', tensor(1.0045), 4.491071428571429)]"
      ]
     },
     "execution_count": 107,
     "metadata": {},
     "output_type": "execute_result"
    }
   ],
   "source": [
    "sorted(movie_bias, key=lambda x:x[1], reverse=True)[:10]"
   ]
  },
  {
   "cell_type": "code",
   "execution_count": 106,
   "metadata": {},
   "outputs": [
    {
     "data": {
      "text/plain": [
       "[('Lawnmower Man 2: Beyond Cyberspace (1996)',\n",
       "  tensor(-0.8612),\n",
       "  1.7142857142857142),\n",
       " ('Children of the Corn: The Gathering (1996)',\n",
       "  tensor(-0.7255),\n",
       "  1.3157894736842106),\n",
       " ('Mortal Kombat: Annihilation (1997)', tensor(-0.7210), 1.9534883720930232),\n",
       " ('Barb Wire (1996)', tensor(-0.6732), 1.9333333333333333),\n",
       " ('Home Alone 3 (1997)', tensor(-0.6701), 1.894736842105263),\n",
       " ('Showgirls (1995)', tensor(-0.6645), 1.9565217391304348),\n",
       " ('Hellraiser: Bloodline (1996)', tensor(-0.6588), 2.0),\n",
       " ('Free Willy 3: The Rescue (1997)', tensor(-0.6392), 1.7407407407407407),\n",
       " ('Crow: City of Angels, The (1996)', tensor(-0.6374), 1.9487179487179487),\n",
       " ('Leave It to Beaver (1997)', tensor(-0.6243), 1.8409090909090908)]"
      ]
     },
     "execution_count": 106,
     "metadata": {},
     "output_type": "execute_result"
    }
   ],
   "source": [
    "sorted(movie_bias, key=lambda x:x[1], reverse=False)[:10]"
   ]
  },
  {
   "cell_type": "markdown",
   "metadata": {},
   "source": [
    "### Movie Weights"
   ]
  },
  {
   "cell_type": "code",
   "execution_count": 111,
   "metadata": {},
   "outputs": [
    {
     "data": {
      "text/plain": [
       "torch.Size([1000, 50])"
      ]
     },
     "execution_count": 111,
     "metadata": {},
     "output_type": "execute_result"
    }
   ],
   "source": [
    "weights = learner.weight(top_movies.index)\n",
    "weights.shape"
   ]
  },
  {
   "cell_type": "code",
   "execution_count": 116,
   "metadata": {},
   "outputs": [],
   "source": [
    "(fac1, fac2) = weights.pca(k=2).t()"
   ]
  },
  {
   "cell_type": "code",
   "execution_count": 119,
   "metadata": {},
   "outputs": [],
   "source": [
    "movie_weigts = [(i, f1, f2, mean_ratings[i]) for i,f1,f2 in zip(top_movies.index, fac1, fac2)]"
   ]
  },
  {
   "cell_type": "markdown",
   "metadata": {},
   "source": [
    "**Factor 1 representation**"
   ]
  },
  {
   "cell_type": "code",
   "execution_count": 136,
   "metadata": {},
   "outputs": [
    {
     "name": "stdout",
     "output_type": "stream",
     "text": [
      "('Down by Law (1986)', tensor(1.5418), tensor(-0.3640), 3.7714285714285714)\n",
      "('Bad Taste (1987)', tensor(1.3861), tensor(-0.1052), 3.375)\n",
      "('Chinatown (1974)', tensor(1.2782), tensor(0.2859), 4.136054421768708)\n",
      "('Delicatessen (1991)', tensor(1.2722), tensor(0.2930), 3.876923076923077)\n",
      "('Big Sleep, The (1946)', tensor(1.2355), tensor(-0.3216), 4.027397260273973)\n",
      "('Ghost in the Shell (Kokaku kidotai) (1995)', tensor(1.2190), tensor(0.3682), 3.6538461538461537)\n",
      "('Old Man and the Sea, The (1958)', tensor(1.1920), tensor(-0.5717), 3.34375)\n",
      "('8 1/2 (1963)', tensor(1.1543), tensor(0.4690), 3.8157894736842106)\n",
      "('Thin Man, The (1934)', tensor(1.1413), tensor(-0.0937), 4.15)\n",
      "('Touch of Evil (1958)', tensor(1.1242), tensor(-0.0892), 3.911764705882353)\n"
     ]
    }
   ],
   "source": [
    "print(*sorted(movie_weigts, key=lambda x:x[1], reverse=True)[:10], sep='\\n')"
   ]
  },
  {
   "cell_type": "code",
   "execution_count": 137,
   "metadata": {},
   "outputs": [
    {
     "name": "stdout",
     "output_type": "stream",
     "text": [
      "('Shadow Conspiracy (1997)', tensor(-1.3907), tensor(0.3918), 2.8636363636363638)\n",
      "('Beverly Hills Cop III (1994)', tensor(-1.3629), tensor(0.6043), 2.392857142857143)\n",
      "('Beverly Hillbillies, The (1993)', tensor(-1.3618), tensor(0.2698), 2.25)\n",
      "('Turbulence (1997)', tensor(-1.3186), tensor(-0.2513), 2.5652173913043477)\n",
      "('Batman & Robin (1997)', tensor(-1.2267), tensor(0.2347), 2.4516129032258065)\n",
      "('Bio-Dome (1996)', tensor(-1.2169), tensor(0.7667), 1.903225806451613)\n",
      "('Batman Forever (1995)', tensor(-1.1698), tensor(0.5102), 2.6666666666666665)\n",
      "('Net, The (1995)', tensor(-1.1253), tensor(0.0352), 3.0083333333333333)\n",
      "('D3: The Mighty Ducks (1996)', tensor(-1.1148), tensor(0.0227), 2.5789473684210527)\n",
      "('Tales from the Hood (1995)', tensor(-1.0973), tensor(0.4494), 2.037037037037037)\n"
     ]
    }
   ],
   "source": [
    "print(*sorted(movie_weigts, key=lambda x:x[1], reverse=False)[:10], sep='\\n')"
   ]
  },
  {
   "cell_type": "markdown",
   "metadata": {},
   "source": [
    "**Factor 2 representation**"
   ]
  },
  {
   "cell_type": "code",
   "execution_count": 138,
   "metadata": {},
   "outputs": [
    {
     "name": "stdout",
     "output_type": "stream",
     "text": [
      "('Beavis and Butt-head Do America (1996)', tensor(-0.1013), tensor(1.2599), 2.7884615384615383)\n",
      "('Dracula: Dead and Loving It (1995)', tensor(-0.6490), tensor(1.0581), 2.28)\n",
      "('Paradise Lost: The Child Murders at Robin Hood Hills (1996)', tensor(0.7307), tensor(0.9879), 4.05)\n",
      "('Romeo Is Bleeding (1993)', tensor(0.2388), tensor(0.9754), 3.0)\n",
      "('Trainspotting (1996)', tensor(0.8858), tensor(0.9611), 3.884)\n",
      "('Blues Brothers 2000 (1998)', tensor(0.1231), tensor(0.9525), 2.8214285714285716)\n",
      "('Lost Highway (1997)', tensor(0.2773), tensor(0.9509), 3.136)\n",
      "('Hellraiser: Bloodline (1996)', tensor(-0.3419), tensor(0.9255), 2.0)\n",
      "('Crow: City of Angels, The (1996)', tensor(-0.8119), tensor(0.9187), 1.9487179487179487)\n",
      "('Evil Dead II (1987)', tensor(0.4679), tensor(0.9025), 3.5168539325842696)\n"
     ]
    }
   ],
   "source": [
    "print(*sorted(movie_weigts, key=lambda x:x[2], reverse=True)[:10], sep='\\n')"
   ]
  },
  {
   "cell_type": "code",
   "execution_count": 139,
   "metadata": {},
   "outputs": [
    {
     "name": "stdout",
     "output_type": "stream",
     "text": [
      "('Braveheart (1995)', tensor(-0.1758), tensor(-1.2507), 4.151515151515151)\n",
      "(\"It's a Wonderful Life (1946)\", tensor(0.1448), tensor(-1.0530), 4.121212121212121)\n",
      "('Sleepless in Seattle (1993)', tensor(-0.1769), tensor(-1.0450), 3.539906103286385)\n",
      "('Miracle on 34th Street (1994)', tensor(0.0406), tensor(-0.9652), 3.722772277227723)\n",
      "('Amateur (1994)', tensor(0.5791), tensor(-0.9586), 3.1666666666666665)\n",
      "('American President, The (1995)', tensor(-0.6015), tensor(-0.9311), 3.6280487804878048)\n",
      "('Dave (1993)', tensor(-0.2710), tensor(-0.9055), 3.65)\n",
      "('Dirty Dancing (1987)', tensor(-0.6857), tensor(-0.9039), 3.1020408163265305)\n",
      "('Meet John Doe (1941)', tensor(0.8002), tensor(-0.8891), 3.92)\n",
      "('Now and Then (1995)', tensor(-0.4483), tensor(-0.8846), 3.4583333333333335)\n"
     ]
    }
   ],
   "source": [
    "print(*sorted(movie_weigts, key=lambda x:x[2], reverse=False)[:10], sep='\\n')"
   ]
  },
  {
   "cell_type": "markdown",
   "metadata": {},
   "source": [
    "**PCA Visualization**"
   ]
  },
  {
   "cell_type": "code",
   "execution_count": 160,
   "metadata": {},
   "outputs": [],
   "source": [
    "idxs = np.random.choice(len(top_movies), size=50, replace=False)"
   ]
  },
  {
   "cell_type": "code",
   "execution_count": 164,
   "metadata": {},
   "outputs": [],
   "source": [
    "x = fac1[idxs]\n",
    "y = fac2[idxs]\n",
    "movie_titles = top_movies[idxs]"
   ]
  },
  {
   "cell_type": "code",
   "execution_count": 165,
   "metadata": {},
   "outputs": [
    {
     "data": {
      "image/png": "[encoded data removed]",
      "text/plain": [
       "<Figure size 1080x1080 with 1 Axes>"
      ]
     },
     "metadata": {
      "needs_background": "light"
     },
     "output_type": "display_data"
    }
   ],
   "source": [
    "fig, ax = plt.subplots(figsize=(15,15))\n",
    "ax.scatter(x, y)\n",
    "for title, x_i, y_i in zip(movie_titles.index, x, y):\n",
    "    ax.text(x_i,y_i,title)"
   ]
  }
 ],
 "metadata": {
  "kernelspec": {
   "display_name": "Python 3",
   "language": "python",
   "name": "python3"
  },
  "language_info": {
   "codemirror_mode": {
    "name": "ipython",
    "version": 3
   },
   "file_extension": ".py",
   "mimetype": "text/x-python",
   "name": "python",
   "nbconvert_exporter": "python",
   "pygments_lexer": "ipython3",
   "version": "3.7.2"
  }
 },
 "nbformat": 4,
 "nbformat_minor": 2
}
